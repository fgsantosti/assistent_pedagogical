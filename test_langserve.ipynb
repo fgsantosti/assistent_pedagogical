{
 "cells": [
  {
   "cell_type": "code",
   "execution_count": 1,
   "id": "7ddbb6d1-d555-48b8-b818-1c0f76ea4307",
   "metadata": {},
   "outputs": [
    {
     "data": {
      "text/plain": [
       "'Why was the cat sitting on the computer?\\n\\nBecause it wanted to keep an eye on the mouse!'"
      ]
     },
     "execution_count": 1,
     "metadata": {},
     "output_type": "execute_result"
    }
   ],
   "source": [
    "import requests\n",
    "\n",
    "response = requests.post(\n",
    "    \"http://localhost:8000/assistente/invoke\",\n",
    "    json={'input': {'topic': 'cats'}}\n",
    ")\n",
    "response.json()['output']['content']"
   ]
  },
  {
   "cell_type": "code",
   "execution_count": 8,
   "id": "eed01185-e2f2-4860-b54f-d8af6ebe0bd4",
   "metadata": {},
   "outputs": [
    {
     "data": {
      "text/plain": [
       "{'output': 'O objetivo da organização didática é reger as atividades e decisões didático-pedagógicas desenvolvidas no Instituto Federal de Educação, Ciência e Tecnologia do Piauí, observando as disposições legais que regulamentam a educação no Brasil.',\n",
       " 'metadata': {'run_id': '8c0d339c-0481-4aa5-aa6b-514f37d02131',\n",
       "  'feedback_tokens': []}}"
      ]
     },
     "execution_count": 8,
     "metadata": {},
     "output_type": "execute_result"
    }
   ],
   "source": [
    "import requests\n",
    "\n",
    "inputs = {\"input\": {\"question\": \"Qual o objetivo da organização didatica?\", \"chat_history\": []}}\n",
    "response = requests.post(\"http://localhost:8000/invoke\", json=inputs)\n",
    "\n",
    "response.json()"
   ]
  },
  {
   "cell_type": "code",
   "execution_count": 12,
   "id": "8695b099-3d9a-4bf7-a7b4-222e48c64969",
   "metadata": {},
   "outputs": [
    {
     "name": "stdout",
     "output_type": "stream",
     "text": [
      "De acordo com o texto fornecido, um plano de disciplina deve incluir os seguintes elementos:\n",
      "I - identificação;\n",
      "II - ementa;\n",
      "III - objetivos: geral e específicos;\n",
      "IV - conteúdo programático;\n",
      "V - metodologia;\n",
      "VI - recursos;\n",
      "VII - avaliação; e\n",
      "VIII - referências (básica e complementar).\n"
     ]
    }
   ],
   "source": [
    "import requests\n",
    "\n",
    "inputs = {\"input\": {\"question\": \"O que deve constar em um plano de disciplina?\", \"chat_history\": []}}\n",
    "response = requests.post(\"http://localhost:8000/invoke\", json=inputs)\n",
    "\n",
    "print(response.json()['output'])"
   ]
  },
  {
   "cell_type": "code",
   "execution_count": null,
   "id": "62ff20db-3113-4a46-8fb9-850cea9cb4f5",
   "metadata": {},
   "outputs": [],
   "source": []
  },
  {
   "cell_type": "code",
   "execution_count": null,
   "id": "4951c1a9-b1e2-413d-9d26-94b0698634e9",
   "metadata": {},
   "outputs": [],
   "source": []
  }
 ],
 "metadata": {
  "kernelspec": {
   "display_name": "Python 3 (ipykernel)",
   "language": "python",
   "name": "python3"
  },
  "language_info": {
   "codemirror_mode": {
    "name": "ipython",
    "version": 3
   },
   "file_extension": ".py",
   "mimetype": "text/x-python",
   "name": "python",
   "nbconvert_exporter": "python",
   "pygments_lexer": "ipython3",
   "version": "3.12.3"
  }
 },
 "nbformat": 4,
 "nbformat_minor": 5
}
